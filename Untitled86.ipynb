{
  "nbformat": 4,
  "nbformat_minor": 0,
  "metadata": {
    "colab": {
      "name": "Untitled86.ipynb",
      "provenance": []
    },
    "kernelspec": {
      "name": "python3",
      "display_name": "Python 3"
    },
    "language_info": {
      "name": "python"
    }
  },
  "cells": [
    {
      "cell_type": "markdown",
      "metadata": {
        "id": "At3RWDU30U3I"
      },
      "source": [
        "**Basketball prediction by implementing Logistic Regression model**"
      ]
    },
    {
      "cell_type": "code",
      "metadata": {
        "id": "k1prFTOInlfa"
      },
      "source": [
        "import pandas as pd\n",
        "import numpy as np\n",
        "import seaborn as sns\n",
        "from sklearn.linear_model import LogisticRegression\n",
        "from sklearn.model_selection import train_test_split\n",
        "import matplotlib.pyplot as plt"
      ],
      "execution_count": 1,
      "outputs": []
    },
    {
      "cell_type": "code",
      "metadata": {
        "id": "DmU3yiyIv43k"
      },
      "source": [
        "data=pd.read_csv('basketball_hall_of_fame_df (1).csv', sep=';')"
      ],
      "execution_count": 2,
      "outputs": []
    },
    {
      "cell_type": "code",
      "metadata": {
        "colab": {
          "base_uri": "https://localhost:8080/"
        },
        "id": "VUqaF9S3zCtx",
        "outputId": "7993af95-2c16-4515-bf4e-a0853b7b51cd"
      },
      "source": [
        "data.shape"
      ],
      "execution_count": 6,
      "outputs": [
        {
          "output_type": "execute_result",
          "data": {
            "text/plain": [
              "(2366, 19)"
            ]
          },
          "metadata": {
            "tags": []
          },
          "execution_count": 6
        }
      ]
    },
    {
      "cell_type": "code",
      "metadata": {
        "colab": {
          "base_uri": "https://localhost:8080/"
        },
        "id": "ZbQdW3mlv49v",
        "outputId": "f52e1c8b-0d07-4154-bf14-b48661ca94a0"
      },
      "source": [
        "categorical_features = (data.select_dtypes(include=['object']).columns.values)\n",
        "categorical_features"
      ],
      "execution_count": 3,
      "outputs": [
        {
          "output_type": "execute_result",
          "data": {
            "text/plain": [
              "array(['playerID', 'pos', 'college', 'birthDate', 'birthState',\n",
              "       'birthCountry', 'ethnicity'], dtype=object)"
            ]
          },
          "metadata": {
            "tags": []
          },
          "execution_count": 3
        }
      ]
    },
    {
      "cell_type": "code",
      "metadata": {
        "colab": {
          "base_uri": "https://localhost:8080/"
        },
        "id": "Zyxlx6GBv4_D",
        "outputId": "712b5a9d-bd04-407e-b4bc-16bfca9dda90"
      },
      "source": [
        "numerical_features = data.select_dtypes(include = ['float64', 'int64']).columns.values\n",
        "numerical_features"
      ],
      "execution_count": 4,
      "outputs": [
        {
          "output_type": "execute_result",
          "data": {
            "text/plain": [
              "array(['Unnamed: 0', 'stint', 'minutes', 'rebounds', 'assists', 'steals',\n",
              "       'blocks', 'turnovers', 'careerDuration', 'height', 'weight',\n",
              "       'target'], dtype=object)"
            ]
          },
          "metadata": {
            "tags": []
          },
          "execution_count": 4
        }
      ]
    },
    {
      "cell_type": "code",
      "metadata": {
        "colab": {
          "base_uri": "https://localhost:8080/"
        },
        "id": "7Dv1PL8rweuW",
        "outputId": "07c4d4e3-440c-4667-9f88-cd30af75224a"
      },
      "source": [
        "data.isnull().sum()"
      ],
      "execution_count": 5,
      "outputs": [
        {
          "output_type": "execute_result",
          "data": {
            "text/plain": [
              "Unnamed: 0          0\n",
              "playerID            0\n",
              "stint               0\n",
              "minutes             0\n",
              "rebounds            0\n",
              "assists             0\n",
              "steals              0\n",
              "blocks              0\n",
              "turnovers           0\n",
              "careerDuration      0\n",
              "pos                 3\n",
              "height              0\n",
              "weight              0\n",
              "college             0\n",
              "birthDate           0\n",
              "birthState        234\n",
              "birthCountry       63\n",
              "ethnicity           0\n",
              "target              0\n",
              "dtype: int64"
            ]
          },
          "metadata": {
            "tags": []
          },
          "execution_count": 5
        }
      ]
    },
    {
      "cell_type": "code",
      "metadata": {
        "id": "NxBCLM6Hv5B-"
      },
      "source": [
        "data=data.drop(['Unnamed: 0', 'playerID', 'college', 'birthCountry','birthState','birthDate'], axis=1)"
      ],
      "execution_count": 8,
      "outputs": []
    },
    {
      "cell_type": "code",
      "metadata": {
        "colab": {
          "base_uri": "https://localhost:8080/",
          "height": 142
        },
        "id": "N0z4SZJ4ws4I",
        "outputId": "0e8f5603-873d-4df3-a8e5-1eda6a980711"
      },
      "source": [
        "#finding null data in row\n",
        "null_data = data[data.isnull().any(axis=1)]\n",
        "null_data"
      ],
      "execution_count": 9,
      "outputs": [
        {
          "output_type": "execute_result",
          "data": {
            "text/html": [
              "<div>\n",
              "<style scoped>\n",
              "    .dataframe tbody tr th:only-of-type {\n",
              "        vertical-align: middle;\n",
              "    }\n",
              "\n",
              "    .dataframe tbody tr th {\n",
              "        vertical-align: top;\n",
              "    }\n",
              "\n",
              "    .dataframe thead th {\n",
              "        text-align: right;\n",
              "    }\n",
              "</style>\n",
              "<table border=\"1\" class=\"dataframe\">\n",
              "  <thead>\n",
              "    <tr style=\"text-align: right;\">\n",
              "      <th></th>\n",
              "      <th>stint</th>\n",
              "      <th>minutes</th>\n",
              "      <th>rebounds</th>\n",
              "      <th>assists</th>\n",
              "      <th>steals</th>\n",
              "      <th>blocks</th>\n",
              "      <th>turnovers</th>\n",
              "      <th>careerDuration</th>\n",
              "      <th>pos</th>\n",
              "      <th>height</th>\n",
              "      <th>weight</th>\n",
              "      <th>ethnicity</th>\n",
              "      <th>target</th>\n",
              "    </tr>\n",
              "  </thead>\n",
              "  <tbody>\n",
              "    <tr>\n",
              "      <th>270</th>\n",
              "      <td>1.25</td>\n",
              "      <td>638.50</td>\n",
              "      <td>103.25</td>\n",
              "      <td>29.75</td>\n",
              "      <td>22.25</td>\n",
              "      <td>8.00</td>\n",
              "      <td>27.25</td>\n",
              "      <td>4</td>\n",
              "      <td>NaN</td>\n",
              "      <td>79.0</td>\n",
              "      <td>225.0</td>\n",
              "      <td>B</td>\n",
              "      <td>0.0</td>\n",
              "    </tr>\n",
              "    <tr>\n",
              "      <th>362</th>\n",
              "      <td>1.00</td>\n",
              "      <td>1959.75</td>\n",
              "      <td>170.00</td>\n",
              "      <td>262.00</td>\n",
              "      <td>106.00</td>\n",
              "      <td>9.50</td>\n",
              "      <td>130.25</td>\n",
              "      <td>4</td>\n",
              "      <td>NaN</td>\n",
              "      <td>73.0</td>\n",
              "      <td>190.0</td>\n",
              "      <td>B</td>\n",
              "      <td>0.0</td>\n",
              "    </tr>\n",
              "    <tr>\n",
              "      <th>896</th>\n",
              "      <td>1.00</td>\n",
              "      <td>1282.33</td>\n",
              "      <td>162.33</td>\n",
              "      <td>80.00</td>\n",
              "      <td>36.33</td>\n",
              "      <td>20.33</td>\n",
              "      <td>59.33</td>\n",
              "      <td>3</td>\n",
              "      <td>NaN</td>\n",
              "      <td>77.0</td>\n",
              "      <td>215.0</td>\n",
              "      <td>B</td>\n",
              "      <td>0.0</td>\n",
              "    </tr>\n",
              "  </tbody>\n",
              "</table>\n",
              "</div>"
            ],
            "text/plain": [
              "     stint  minutes  rebounds  assists  ...  height  weight  ethnicity  target\n",
              "270   1.25   638.50    103.25    29.75  ...    79.0   225.0          B     0.0\n",
              "362   1.00  1959.75    170.00   262.00  ...    73.0   190.0          B     0.0\n",
              "896   1.00  1282.33    162.33    80.00  ...    77.0   215.0          B     0.0\n",
              "\n",
              "[3 rows x 13 columns]"
            ]
          },
          "metadata": {
            "tags": []
          },
          "execution_count": 9
        }
      ]
    },
    {
      "cell_type": "code",
      "metadata": {
        "id": "xzVUHoptw5TI"
      },
      "source": [
        "data= data.drop([270,362,896])"
      ],
      "execution_count": 10,
      "outputs": []
    },
    {
      "cell_type": "code",
      "metadata": {
        "colab": {
          "base_uri": "https://localhost:8080/"
        },
        "id": "zZy3H0hNw-tY",
        "outputId": "0ce14a10-7610-46aa-bbf5-9091720520d0"
      },
      "source": [
        "data.isnull().sum()"
      ],
      "execution_count": 11,
      "outputs": [
        {
          "output_type": "execute_result",
          "data": {
            "text/plain": [
              "stint             0\n",
              "minutes           0\n",
              "rebounds          0\n",
              "assists           0\n",
              "steals            0\n",
              "blocks            0\n",
              "turnovers         0\n",
              "careerDuration    0\n",
              "pos               0\n",
              "height            0\n",
              "weight            0\n",
              "ethnicity         0\n",
              "target            0\n",
              "dtype: int64"
            ]
          },
          "metadata": {
            "tags": []
          },
          "execution_count": 11
        }
      ]
    },
    {
      "cell_type": "code",
      "metadata": {
        "colab": {
          "base_uri": "https://localhost:8080/",
          "height": 517
        },
        "id": "XGQhyujRv5Ej",
        "outputId": "efcb4e6c-8f44-4745-e5df-26e9df4d8aca"
      },
      "source": [
        "plt.figure(figsize=(12,8))\n",
        "ax=sns.countplot(x='target', data=data, palette='magma')\n",
        "ax.set_title('target',fontsize=18)\n",
        "ax.set_ylabel('count')\n",
        "ax.set_xlabel(\"target\")\n",
        "plt.show()"
      ],
      "execution_count": 12,
      "outputs": [
        {
          "output_type": "display_data",
          "data": {
            "image/png": "[encoded data removed]",
            "text/plain": [
              "<Figure size 864x576 with 1 Axes>"
            ]
          },
          "metadata": {
            "tags": [],
            "needs_background": "light"
          }
        }
      ]
    },
    {
      "cell_type": "code",
      "metadata": {
        "colab": {
          "base_uri": "https://localhost:8080/",
          "height": 517
        },
        "id": "az-BrPMhxEq1",
        "outputId": "fdb31002-048a-47c4-fcb1-879629e24bb6"
      },
      "source": [
        "plt.figure(figsize=(12,8))\n",
        "ax=sns.countplot(x='ethnicity', data=data, palette='magma')\n",
        "ax.set_title('ethnicity count',fontsize=18)\n",
        "ax.set_ylabel('count')\n",
        "ax.set_xlabel(\"ethnicity\")\n",
        "plt.show()"
      ],
      "execution_count": 13,
      "outputs": [
        {
          "output_type": "display_data",
          "data": {
            "image/png": "[encoded data removed]",
            "text/plain": [
              "<Figure size 864x576 with 1 Axes>"
            ]
          },
          "metadata": {
            "tags": [],
            "needs_background": "light"
          }
        }
      ]
    },
    {
      "cell_type": "code",
      "metadata": {
        "colab": {
          "base_uri": "https://localhost:8080/",
          "height": 517
        },
        "id": "pcI0GG-AxZGJ",
        "outputId": "7540bed0-7c57-4afb-ea88-23b53d029fad"
      },
      "source": [
        "plt.figure(figsize=(12,8))\n",
        "ax=sns.countplot(x='pos', data=data, palette='magma')\n",
        "ax.set_title('Position',fontsize=18)\n",
        "ax.set_ylabel('count')\n",
        "ax.set_xlabel(\"Position\")\n",
        "plt.show()"
      ],
      "execution_count": 14,
      "outputs": [
        {
          "output_type": "display_data",
          "data": {
            "image/png": "[encoded data removed]",
            "text/plain": [
              "<Figure size 864x576 with 1 Axes>"
            ]
          },
          "metadata": {
            "tags": [],
            "needs_background": "light"
          }
        }
      ]
    },
    {
      "cell_type": "code",
      "metadata": {
        "colab": {
          "base_uri": "https://localhost:8080/",
          "height": 417
        },
        "id": "RKbtSw33ySwN",
        "outputId": "f9abe7a2-c03b-407b-8510-63bcf62fbe75"
      },
      "source": [
        "#changing categorical data to numerical\n",
        "dummy_ranks = pd.get_dummies(data['pos'], prefix = 'pos')\n",
        "dummy_ranks"
      ],
      "execution_count": 16,
      "outputs": [
        {
          "output_type": "execute_result",
          "data": {
            "text/html": [
              "<div>\n",
              "<style scoped>\n",
              "    .dataframe tbody tr th:only-of-type {\n",
              "        vertical-align: middle;\n",
              "    }\n",
              "\n",
              "    .dataframe tbody tr th {\n",
              "        vertical-align: top;\n",
              "    }\n",
              "\n",
              "    .dataframe thead th {\n",
              "        text-align: right;\n",
              "    }\n",
              "</style>\n",
              "<table border=\"1\" class=\"dataframe\">\n",
              "  <thead>\n",
              "    <tr style=\"text-align: right;\">\n",
              "      <th></th>\n",
              "      <th>pos_C</th>\n",
              "      <th>pos_C-F</th>\n",
              "      <th>pos_F</th>\n",
              "      <th>pos_F-C</th>\n",
              "      <th>pos_F-G</th>\n",
              "      <th>pos_G</th>\n",
              "      <th>pos_G-F</th>\n",
              "    </tr>\n",
              "  </thead>\n",
              "  <tbody>\n",
              "    <tr>\n",
              "      <th>0</th>\n",
              "      <td>0</td>\n",
              "      <td>0</td>\n",
              "      <td>0</td>\n",
              "      <td>1</td>\n",
              "      <td>0</td>\n",
              "      <td>0</td>\n",
              "      <td>0</td>\n",
              "    </tr>\n",
              "    <tr>\n",
              "      <th>1</th>\n",
              "      <td>1</td>\n",
              "      <td>0</td>\n",
              "      <td>0</td>\n",
              "      <td>0</td>\n",
              "      <td>0</td>\n",
              "      <td>0</td>\n",
              "      <td>0</td>\n",
              "    </tr>\n",
              "    <tr>\n",
              "      <th>2</th>\n",
              "      <td>0</td>\n",
              "      <td>0</td>\n",
              "      <td>0</td>\n",
              "      <td>0</td>\n",
              "      <td>0</td>\n",
              "      <td>1</td>\n",
              "      <td>0</td>\n",
              "    </tr>\n",
              "    <tr>\n",
              "      <th>3</th>\n",
              "      <td>0</td>\n",
              "      <td>0</td>\n",
              "      <td>0</td>\n",
              "      <td>0</td>\n",
              "      <td>0</td>\n",
              "      <td>1</td>\n",
              "      <td>0</td>\n",
              "    </tr>\n",
              "    <tr>\n",
              "      <th>4</th>\n",
              "      <td>0</td>\n",
              "      <td>0</td>\n",
              "      <td>0</td>\n",
              "      <td>0</td>\n",
              "      <td>0</td>\n",
              "      <td>0</td>\n",
              "      <td>1</td>\n",
              "    </tr>\n",
              "    <tr>\n",
              "      <th>...</th>\n",
              "      <td>...</td>\n",
              "      <td>...</td>\n",
              "      <td>...</td>\n",
              "      <td>...</td>\n",
              "      <td>...</td>\n",
              "      <td>...</td>\n",
              "      <td>...</td>\n",
              "    </tr>\n",
              "    <tr>\n",
              "      <th>2361</th>\n",
              "      <td>0</td>\n",
              "      <td>0</td>\n",
              "      <td>0</td>\n",
              "      <td>0</td>\n",
              "      <td>0</td>\n",
              "      <td>0</td>\n",
              "      <td>1</td>\n",
              "    </tr>\n",
              "    <tr>\n",
              "      <th>2362</th>\n",
              "      <td>0</td>\n",
              "      <td>0</td>\n",
              "      <td>0</td>\n",
              "      <td>1</td>\n",
              "      <td>0</td>\n",
              "      <td>0</td>\n",
              "      <td>0</td>\n",
              "    </tr>\n",
              "    <tr>\n",
              "      <th>2363</th>\n",
              "      <td>0</td>\n",
              "      <td>0</td>\n",
              "      <td>0</td>\n",
              "      <td>0</td>\n",
              "      <td>0</td>\n",
              "      <td>1</td>\n",
              "      <td>0</td>\n",
              "    </tr>\n",
              "    <tr>\n",
              "      <th>2364</th>\n",
              "      <td>1</td>\n",
              "      <td>0</td>\n",
              "      <td>0</td>\n",
              "      <td>0</td>\n",
              "      <td>0</td>\n",
              "      <td>0</td>\n",
              "      <td>0</td>\n",
              "    </tr>\n",
              "    <tr>\n",
              "      <th>2365</th>\n",
              "      <td>1</td>\n",
              "      <td>0</td>\n",
              "      <td>0</td>\n",
              "      <td>0</td>\n",
              "      <td>0</td>\n",
              "      <td>0</td>\n",
              "      <td>0</td>\n",
              "    </tr>\n",
              "  </tbody>\n",
              "</table>\n",
              "<p>2363 rows × 7 columns</p>\n",
              "</div>"
            ],
            "text/plain": [
              "      pos_C  pos_C-F  pos_F  pos_F-C  pos_F-G  pos_G  pos_G-F\n",
              "0         0        0      0        1        0      0        0\n",
              "1         1        0      0        0        0      0        0\n",
              "2         0        0      0        0        0      1        0\n",
              "3         0        0      0        0        0      1        0\n",
              "4         0        0      0        0        0      0        1\n",
              "...     ...      ...    ...      ...      ...    ...      ...\n",
              "2361      0        0      0        0        0      0        1\n",
              "2362      0        0      0        1        0      0        0\n",
              "2363      0        0      0        0        0      1        0\n",
              "2364      1        0      0        0        0      0        0\n",
              "2365      1        0      0        0        0      0        0\n",
              "\n",
              "[2363 rows x 7 columns]"
            ]
          },
          "metadata": {
            "tags": []
          },
          "execution_count": 16
        }
      ]
    },
    {
      "cell_type": "code",
      "metadata": {
        "colab": {
          "base_uri": "https://localhost:8080/",
          "height": 417
        },
        "id": "sP2DHkeFx5SL",
        "outputId": "e65c9949-c2ae-4d2a-fada-d846f09b03ee"
      },
      "source": [
        "dummy_ranks1=pd.get_dummies(data['ethnicity'], prefix='ethnicity')\n",
        "dummy_ranks1"
      ],
      "execution_count": 17,
      "outputs": [
        {
          "output_type": "execute_result",
          "data": {
            "text/html": [
              "<div>\n",
              "<style scoped>\n",
              "    .dataframe tbody tr th:only-of-type {\n",
              "        vertical-align: middle;\n",
              "    }\n",
              "\n",
              "    .dataframe tbody tr th {\n",
              "        vertical-align: top;\n",
              "    }\n",
              "\n",
              "    .dataframe thead th {\n",
              "        text-align: right;\n",
              "    }\n",
              "</style>\n",
              "<table border=\"1\" class=\"dataframe\">\n",
              "  <thead>\n",
              "    <tr style=\"text-align: right;\">\n",
              "      <th></th>\n",
              "      <th>ethnicity_B</th>\n",
              "      <th>ethnicity_O</th>\n",
              "      <th>ethnicity_W</th>\n",
              "    </tr>\n",
              "  </thead>\n",
              "  <tbody>\n",
              "    <tr>\n",
              "      <th>0</th>\n",
              "      <td>1</td>\n",
              "      <td>0</td>\n",
              "      <td>0</td>\n",
              "    </tr>\n",
              "    <tr>\n",
              "      <th>1</th>\n",
              "      <td>1</td>\n",
              "      <td>0</td>\n",
              "      <td>0</td>\n",
              "    </tr>\n",
              "    <tr>\n",
              "      <th>2</th>\n",
              "      <td>1</td>\n",
              "      <td>0</td>\n",
              "      <td>0</td>\n",
              "    </tr>\n",
              "    <tr>\n",
              "      <th>3</th>\n",
              "      <td>1</td>\n",
              "      <td>0</td>\n",
              "      <td>0</td>\n",
              "    </tr>\n",
              "    <tr>\n",
              "      <th>4</th>\n",
              "      <td>1</td>\n",
              "      <td>0</td>\n",
              "      <td>0</td>\n",
              "    </tr>\n",
              "    <tr>\n",
              "      <th>...</th>\n",
              "      <td>...</td>\n",
              "      <td>...</td>\n",
              "      <td>...</td>\n",
              "    </tr>\n",
              "    <tr>\n",
              "      <th>2361</th>\n",
              "      <td>0</td>\n",
              "      <td>0</td>\n",
              "      <td>1</td>\n",
              "    </tr>\n",
              "    <tr>\n",
              "      <th>2362</th>\n",
              "      <td>0</td>\n",
              "      <td>0</td>\n",
              "      <td>1</td>\n",
              "    </tr>\n",
              "    <tr>\n",
              "      <th>2363</th>\n",
              "      <td>0</td>\n",
              "      <td>0</td>\n",
              "      <td>1</td>\n",
              "    </tr>\n",
              "    <tr>\n",
              "      <th>2364</th>\n",
              "      <td>0</td>\n",
              "      <td>1</td>\n",
              "      <td>0</td>\n",
              "    </tr>\n",
              "    <tr>\n",
              "      <th>2365</th>\n",
              "      <td>0</td>\n",
              "      <td>0</td>\n",
              "      <td>1</td>\n",
              "    </tr>\n",
              "  </tbody>\n",
              "</table>\n",
              "<p>2363 rows × 3 columns</p>\n",
              "</div>"
            ],
            "text/plain": [
              "      ethnicity_B  ethnicity_O  ethnicity_W\n",
              "0               1            0            0\n",
              "1               1            0            0\n",
              "2               1            0            0\n",
              "3               1            0            0\n",
              "4               1            0            0\n",
              "...           ...          ...          ...\n",
              "2361            0            0            1\n",
              "2362            0            0            1\n",
              "2363            0            0            1\n",
              "2364            0            1            0\n",
              "2365            0            0            1\n",
              "\n",
              "[2363 rows x 3 columns]"
            ]
          },
          "metadata": {
            "tags": []
          },
          "execution_count": 17
        }
      ]
    },
    {
      "cell_type": "code",
      "metadata": {
        "id": "WtUVI6xTx5VV"
      },
      "source": [
        "cols_to_keep=['target','stint','minutes','rebounds','assists','steals','blocks','turnovers','careerDuration','height','weight']\n",
        "data = data[cols_to_keep].join(dummy_ranks[['pos_C','pos_C-F','pos_F', 'pos_F-C','pos_F-G','pos_G','pos_G-F']])"
      ],
      "execution_count": 19,
      "outputs": []
    },
    {
      "cell_type": "code",
      "metadata": {
        "colab": {
          "base_uri": "https://localhost:8080/",
          "height": 454
        },
        "id": "LkLkQNLBycMy",
        "outputId": "416359d9-c4ad-47a5-e43d-081447eb6f92"
      },
      "source": [
        "cols_to_keep1=['target','stint','minutes','rebounds','assists','steals','blocks','turnovers','careerDuration','height','weight','pos_C','pos_C-F','pos_F', 'pos_F-C','pos_F-G','pos_G','pos_G-F']\n",
        "data = data[cols_to_keep1].join(dummy_ranks1[['ethnicity_B','ethnicity_W','ethnicity_O']])\n",
        "data"
      ],
      "execution_count": 21,
      "outputs": [
        {
          "output_type": "execute_result",
          "data": {
            "text/html": [
              "<div>\n",
              "<style scoped>\n",
              "    .dataframe tbody tr th:only-of-type {\n",
              "        vertical-align: middle;\n",
              "    }\n",
              "\n",
              "    .dataframe tbody tr th {\n",
              "        vertical-align: top;\n",
              "    }\n",
              "\n",
              "    .dataframe thead th {\n",
              "        text-align: right;\n",
              "    }\n",
              "</style>\n",
              "<table border=\"1\" class=\"dataframe\">\n",
              "  <thead>\n",
              "    <tr style=\"text-align: right;\">\n",
              "      <th></th>\n",
              "      <th>target</th>\n",
              "      <th>stint</th>\n",
              "      <th>minutes</th>\n",
              "      <th>rebounds</th>\n",
              "      <th>assists</th>\n",
              "      <th>steals</th>\n",
              "      <th>blocks</th>\n",
              "      <th>turnovers</th>\n",
              "      <th>careerDuration</th>\n",
              "      <th>height</th>\n",
              "      <th>weight</th>\n",
              "      <th>pos_C</th>\n",
              "      <th>pos_C-F</th>\n",
              "      <th>pos_F</th>\n",
              "      <th>pos_F-C</th>\n",
              "      <th>pos_F-G</th>\n",
              "      <th>pos_G</th>\n",
              "      <th>pos_G-F</th>\n",
              "      <th>ethnicity_B</th>\n",
              "      <th>ethnicity_W</th>\n",
              "      <th>ethnicity_O</th>\n",
              "    </tr>\n",
              "  </thead>\n",
              "  <tbody>\n",
              "    <tr>\n",
              "      <th>0</th>\n",
              "      <td>0.0</td>\n",
              "      <td>1.29</td>\n",
              "      <td>457.14</td>\n",
              "      <td>120.86</td>\n",
              "      <td>12.14</td>\n",
              "      <td>10.14</td>\n",
              "      <td>10.00</td>\n",
              "      <td>35.29</td>\n",
              "      <td>7</td>\n",
              "      <td>82.0</td>\n",
              "      <td>240.0</td>\n",
              "      <td>0</td>\n",
              "      <td>0</td>\n",
              "      <td>0</td>\n",
              "      <td>1</td>\n",
              "      <td>0</td>\n",
              "      <td>0</td>\n",
              "      <td>0</td>\n",
              "      <td>1</td>\n",
              "      <td>0</td>\n",
              "      <td>0</td>\n",
              "    </tr>\n",
              "    <tr>\n",
              "      <th>1</th>\n",
              "      <td>1.0</td>\n",
              "      <td>1.00</td>\n",
              "      <td>2872.30</td>\n",
              "      <td>872.00</td>\n",
              "      <td>283.00</td>\n",
              "      <td>58.00</td>\n",
              "      <td>159.45</td>\n",
              "      <td>126.35</td>\n",
              "      <td>20</td>\n",
              "      <td>85.0</td>\n",
              "      <td>225.0</td>\n",
              "      <td>1</td>\n",
              "      <td>0</td>\n",
              "      <td>0</td>\n",
              "      <td>0</td>\n",
              "      <td>0</td>\n",
              "      <td>0</td>\n",
              "      <td>0</td>\n",
              "      <td>1</td>\n",
              "      <td>0</td>\n",
              "      <td>0</td>\n",
              "    </tr>\n",
              "    <tr>\n",
              "      <th>2</th>\n",
              "      <td>0.0</td>\n",
              "      <td>1.09</td>\n",
              "      <td>1745.64</td>\n",
              "      <td>195.09</td>\n",
              "      <td>323.18</td>\n",
              "      <td>2.36</td>\n",
              "      <td>0.55</td>\n",
              "      <td>0.00</td>\n",
              "      <td>11</td>\n",
              "      <td>74.0</td>\n",
              "      <td>185.0</td>\n",
              "      <td>0</td>\n",
              "      <td>0</td>\n",
              "      <td>0</td>\n",
              "      <td>0</td>\n",
              "      <td>0</td>\n",
              "      <td>1</td>\n",
              "      <td>0</td>\n",
              "      <td>1</td>\n",
              "      <td>0</td>\n",
              "      <td>0</td>\n",
              "    </tr>\n",
              "    <tr>\n",
              "      <th>3</th>\n",
              "      <td>0.0</td>\n",
              "      <td>1.00</td>\n",
              "      <td>1736.44</td>\n",
              "      <td>120.78</td>\n",
              "      <td>231.00</td>\n",
              "      <td>54.11</td>\n",
              "      <td>5.11</td>\n",
              "      <td>107.00</td>\n",
              "      <td>9</td>\n",
              "      <td>73.0</td>\n",
              "      <td>162.0</td>\n",
              "      <td>0</td>\n",
              "      <td>0</td>\n",
              "      <td>0</td>\n",
              "      <td>0</td>\n",
              "      <td>0</td>\n",
              "      <td>1</td>\n",
              "      <td>0</td>\n",
              "      <td>1</td>\n",
              "      <td>0</td>\n",
              "      <td>0</td>\n",
              "    </tr>\n",
              "    <tr>\n",
              "      <th>4</th>\n",
              "      <td>0.0</td>\n",
              "      <td>1.14</td>\n",
              "      <td>683.29</td>\n",
              "      <td>110.00</td>\n",
              "      <td>37.71</td>\n",
              "      <td>26.00</td>\n",
              "      <td>11.71</td>\n",
              "      <td>43.71</td>\n",
              "      <td>8</td>\n",
              "      <td>78.0</td>\n",
              "      <td>223.0</td>\n",
              "      <td>0</td>\n",
              "      <td>0</td>\n",
              "      <td>0</td>\n",
              "      <td>0</td>\n",
              "      <td>0</td>\n",
              "      <td>0</td>\n",
              "      <td>1</td>\n",
              "      <td>1</td>\n",
              "      <td>0</td>\n",
              "      <td>0</td>\n",
              "    </tr>\n",
              "    <tr>\n",
              "      <th>...</th>\n",
              "      <td>...</td>\n",
              "      <td>...</td>\n",
              "      <td>...</td>\n",
              "      <td>...</td>\n",
              "      <td>...</td>\n",
              "      <td>...</td>\n",
              "      <td>...</td>\n",
              "      <td>...</td>\n",
              "      <td>...</td>\n",
              "      <td>...</td>\n",
              "      <td>...</td>\n",
              "      <td>...</td>\n",
              "      <td>...</td>\n",
              "      <td>...</td>\n",
              "      <td>...</td>\n",
              "      <td>...</td>\n",
              "      <td>...</td>\n",
              "      <td>...</td>\n",
              "      <td>...</td>\n",
              "      <td>...</td>\n",
              "      <td>...</td>\n",
              "    </tr>\n",
              "    <tr>\n",
              "      <th>2361</th>\n",
              "      <td>0.0</td>\n",
              "      <td>1.00</td>\n",
              "      <td>1219.75</td>\n",
              "      <td>119.00</td>\n",
              "      <td>107.50</td>\n",
              "      <td>0.00</td>\n",
              "      <td>0.00</td>\n",
              "      <td>0.00</td>\n",
              "      <td>12</td>\n",
              "      <td>74.0</td>\n",
              "      <td>170.0</td>\n",
              "      <td>0</td>\n",
              "      <td>0</td>\n",
              "      <td>0</td>\n",
              "      <td>0</td>\n",
              "      <td>0</td>\n",
              "      <td>0</td>\n",
              "      <td>1</td>\n",
              "      <td>0</td>\n",
              "      <td>1</td>\n",
              "      <td>0</td>\n",
              "    </tr>\n",
              "    <tr>\n",
              "      <th>2362</th>\n",
              "      <td>0.0</td>\n",
              "      <td>1.00</td>\n",
              "      <td>1178.00</td>\n",
              "      <td>244.00</td>\n",
              "      <td>72.33</td>\n",
              "      <td>0.00</td>\n",
              "      <td>0.00</td>\n",
              "      <td>0.00</td>\n",
              "      <td>3</td>\n",
              "      <td>79.0</td>\n",
              "      <td>215.0</td>\n",
              "      <td>0</td>\n",
              "      <td>0</td>\n",
              "      <td>0</td>\n",
              "      <td>1</td>\n",
              "      <td>0</td>\n",
              "      <td>0</td>\n",
              "      <td>0</td>\n",
              "      <td>0</td>\n",
              "      <td>1</td>\n",
              "      <td>0</td>\n",
              "    </tr>\n",
              "    <tr>\n",
              "      <th>2363</th>\n",
              "      <td>0.0</td>\n",
              "      <td>1.33</td>\n",
              "      <td>259.67</td>\n",
              "      <td>34.00</td>\n",
              "      <td>13.00</td>\n",
              "      <td>0.00</td>\n",
              "      <td>0.00</td>\n",
              "      <td>3.00</td>\n",
              "      <td>3</td>\n",
              "      <td>75.0</td>\n",
              "      <td>205.0</td>\n",
              "      <td>0</td>\n",
              "      <td>0</td>\n",
              "      <td>0</td>\n",
              "      <td>0</td>\n",
              "      <td>0</td>\n",
              "      <td>1</td>\n",
              "      <td>0</td>\n",
              "      <td>0</td>\n",
              "      <td>1</td>\n",
              "      <td>0</td>\n",
              "    </tr>\n",
              "    <tr>\n",
              "      <th>2364</th>\n",
              "      <td>0.0</td>\n",
              "      <td>1.17</td>\n",
              "      <td>209.00</td>\n",
              "      <td>38.50</td>\n",
              "      <td>6.50</td>\n",
              "      <td>4.17</td>\n",
              "      <td>5.83</td>\n",
              "      <td>11.33</td>\n",
              "      <td>6</td>\n",
              "      <td>84.0</td>\n",
              "      <td>220.0</td>\n",
              "      <td>1</td>\n",
              "      <td>0</td>\n",
              "      <td>0</td>\n",
              "      <td>0</td>\n",
              "      <td>0</td>\n",
              "      <td>0</td>\n",
              "      <td>0</td>\n",
              "      <td>0</td>\n",
              "      <td>0</td>\n",
              "      <td>1</td>\n",
              "    </tr>\n",
              "    <tr>\n",
              "      <th>2365</th>\n",
              "      <td>0.0</td>\n",
              "      <td>1.40</td>\n",
              "      <td>265.60</td>\n",
              "      <td>57.20</td>\n",
              "      <td>6.40</td>\n",
              "      <td>2.80</td>\n",
              "      <td>2.40</td>\n",
              "      <td>13.80</td>\n",
              "      <td>5</td>\n",
              "      <td>84.0</td>\n",
              "      <td>250.0</td>\n",
              "      <td>1</td>\n",
              "      <td>0</td>\n",
              "      <td>0</td>\n",
              "      <td>0</td>\n",
              "      <td>0</td>\n",
              "      <td>0</td>\n",
              "      <td>0</td>\n",
              "      <td>0</td>\n",
              "      <td>1</td>\n",
              "      <td>0</td>\n",
              "    </tr>\n",
              "  </tbody>\n",
              "</table>\n",
              "<p>2363 rows × 21 columns</p>\n",
              "</div>"
            ],
            "text/plain": [
              "      target  stint  minutes  ...  ethnicity_B  ethnicity_W  ethnicity_O\n",
              "0        0.0   1.29   457.14  ...            1            0            0\n",
              "1        1.0   1.00  2872.30  ...            1            0            0\n",
              "2        0.0   1.09  1745.64  ...            1            0            0\n",
              "3        0.0   1.00  1736.44  ...            1            0            0\n",
              "4        0.0   1.14   683.29  ...            1            0            0\n",
              "...      ...    ...      ...  ...          ...          ...          ...\n",
              "2361     0.0   1.00  1219.75  ...            0            1            0\n",
              "2362     0.0   1.00  1178.00  ...            0            1            0\n",
              "2363     0.0   1.33   259.67  ...            0            1            0\n",
              "2364     0.0   1.17   209.00  ...            0            0            1\n",
              "2365     0.0   1.40   265.60  ...            0            1            0\n",
              "\n",
              "[2363 rows x 21 columns]"
            ]
          },
          "metadata": {
            "tags": []
          },
          "execution_count": 21
        }
      ]
    },
    {
      "cell_type": "code",
      "metadata": {
        "id": "xp3osk7PymJL"
      },
      "source": [
        "x_train,x_test,y_train,y_test=train_test_split(data.drop('target', axis=1), data['target'])"
      ],
      "execution_count": 22,
      "outputs": []
    },
    {
      "cell_type": "code",
      "metadata": {
        "colab": {
          "base_uri": "https://localhost:8080/"
        },
        "id": "jLnacLT8y0Kx",
        "outputId": "34c8d1a1-1a93-4a33-cdeb-714d0e5fcb07"
      },
      "source": [
        "LogReg=LogisticRegression(solver='lbfgs')\n",
        "LogReg.fit(x_train, y_train)"
      ],
      "execution_count": 23,
      "outputs": [
        {
          "output_type": "stream",
          "text": [
            "/usr/local/lib/python3.7/dist-packages/sklearn/linear_model/_logistic.py:940: ConvergenceWarning: lbfgs failed to converge (status=1):\n",
            "STOP: TOTAL NO. of ITERATIONS REACHED LIMIT.\n",
            "\n",
            "Increase the number of iterations (max_iter) or scale the data as shown in:\n",
            "    https://scikit-learn.org/stable/modules/preprocessing.html\n",
            "Please also refer to the documentation for alternative solver options:\n",
            "    https://scikit-learn.org/stable/modules/linear_model.html#logistic-regression\n",
            "  extra_warning_msg=_LOGISTIC_SOLVER_CONVERGENCE_MSG)\n"
          ],
          "name": "stderr"
        },
        {
          "output_type": "execute_result",
          "data": {
            "text/plain": [
              "LogisticRegression(C=1.0, class_weight=None, dual=False, fit_intercept=True,\n",
              "                   intercept_scaling=1, l1_ratio=None, max_iter=100,\n",
              "                   multi_class='auto', n_jobs=None, penalty='l2',\n",
              "                   random_state=None, solver='lbfgs', tol=0.0001, verbose=0,\n",
              "                   warm_start=False)"
            ]
          },
          "metadata": {
            "tags": []
          },
          "execution_count": 23
        }
      ]
    },
    {
      "cell_type": "code",
      "metadata": {
        "colab": {
          "base_uri": "https://localhost:8080/"
        },
        "id": "fctQml9-y5VI",
        "outputId": "608cd5a6-9eaa-484b-b7bc-ca7873d05e82"
      },
      "source": [
        "LogReg.score(x_test,y_test)"
      ],
      "execution_count": 24,
      "outputs": [
        {
          "output_type": "execute_result",
          "data": {
            "text/plain": [
              "0.9560067681895094"
            ]
          },
          "metadata": {
            "tags": []
          },
          "execution_count": 24
        }
      ]
    }
  ]
}